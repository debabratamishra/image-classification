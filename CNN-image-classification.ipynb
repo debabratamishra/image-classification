{
 "cells": [
  {
   "cell_type": "code",
   "execution_count": 1,
   "metadata": {
    "id": "iphPcadyxf-0"
   },
   "outputs": [],
   "source": [
    "import tensorflow as tf\n",
    "from tensorflow.keras import datasets, layers, models\n",
    "from tensorflow.keras.models import Sequential\n",
    "from tensorflow.keras.losses import sparse_categorical_crossentropy\n",
    "from keras.preprocessing.image import ImageDataGenerator\n",
    "from keras.layers.advanced_activations import LeakyReLU\n",
    "from keras.regularizers import l2\n",
    "from keras.preprocessing.image import ImageDataGenerator\n",
    "import cv2\n",
    "import numpy as np\n",
    "from keras.callbacks import EarlyStopping, ModelCheckpoint, ReduceLROnPlateau\n",
    "import matplotlib.pyplot as plt\n",
    "from keras.models import load_model\n",
    "from tensorflow.keras.layers import Dense, Flatten, Conv2D, UpSampling2D, Dropout,BatchNormalization,GlobalAveragePooling2D, MaxPooling2D, Activation\n",
    "from sklearn.metrics import accuracy_score\n",
    "from sklearn.model_selection import train_test_split\n",
    "from keras.utils.np_utils import to_categorical\n",
    "import time"
   ]
  },
  {
   "cell_type": "code",
   "execution_count": 2,
   "metadata": {
    "id": "G15iY5CQxnQ1"
   },
   "outputs": [],
   "source": [
    "cifar100 = tf.keras.datasets.cifar100\n",
    "(train_images, train_labels), (test_images, test_labels) = cifar100.load_data()"
   ]
  },
  {
   "cell_type": "code",
   "execution_count": null,
   "metadata": {
    "id": "NcKFr9EqBGXO"
   },
   "outputs": [],
   "source": [
    "start_time = time.time()"
   ]
  },
  {
   "cell_type": "code",
   "execution_count": null,
   "metadata": {
    "id": "OmxlQI3txrXt"
   },
   "outputs": [],
   "source": [
    "# Normalizing the train and test\n",
    "train_images = train_images.astype('float32')\n",
    "test_images = test_images.astype('float32')\n",
    "\n",
    "train_images = train_images / 255\n",
    "test_images = test_images / 255"
   ]
  },
  {
   "cell_type": "markdown",
   "metadata": {
    "id": "BrsamszizVsb"
   },
   "source": [
    "### Task1 : Creation of Baseline Model"
   ]
  },
  {
   "cell_type": "code",
   "execution_count": null,
   "metadata": {
    "id": "ORMcZI_UxwmM"
   },
   "outputs": [],
   "source": [
    "# Created the baseline model\n",
    "def create_baseline_model():\n",
    "  tf.compat.v1.reset_default_graph()\n",
    "  baseline_model = Sequential()\n",
    "  baseline_model.add(layers.Conv2D(16, (7, 7), activation='relu', input_shape=(32, 32, 3), strides=1))\n",
    "  baseline_model.add(layers.MaxPooling2D(pool_size=2, strides=2))\n",
    "  baseline_model.add(layers.Conv2D(32, (5, 5), activation='relu', strides=1))\n",
    "  baseline_model.add(layers.MaxPooling2D(pool_size=2, strides=2))\n",
    "  baseline_model.add(layers.Flatten())\n",
    "  baseline_model.add(layers.Dense(128, activation='relu'))\n",
    "  baseline_model.add(layers.Dense(100))\n",
    "\n",
    "  return baseline_model"
   ]
  },
  {
   "cell_type": "code",
   "execution_count": null,
   "metadata": {
    "id": "FbNg7TITxwjh"
   },
   "outputs": [],
   "source": [
    "baseline_model = create_baseline_model()"
   ]
  },
  {
   "cell_type": "code",
   "execution_count": null,
   "metadata": {
    "colab": {
     "base_uri": "https://localhost:8080/"
    },
    "id": "zufdFXsdnlkG",
    "outputId": "ed9e992c-ffdb-4d85-84df-7ab355ba8352"
   },
   "outputs": [
    {
     "name": "stdout",
     "output_type": "stream",
     "text": [
      "Model: \"sequential\"\n",
      "_________________________________________________________________\n",
      " Layer (type)                Output Shape              Param #   \n",
      "=================================================================\n",
      " conv2d (Conv2D)             (None, 26, 26, 16)        2368      \n",
      "                                                                 \n",
      " max_pooling2d (MaxPooling2D  (None, 13, 13, 16)       0         \n",
      " )                                                               \n",
      "                                                                 \n",
      " conv2d_1 (Conv2D)           (None, 9, 9, 32)          12832     \n",
      "                                                                 \n",
      " max_pooling2d_1 (MaxPooling  (None, 4, 4, 32)         0         \n",
      " 2D)                                                             \n",
      "                                                                 \n",
      " flatten (Flatten)           (None, 512)               0         \n",
      "                                                                 \n",
      " dense (Dense)               (None, 128)               65664     \n",
      "                                                                 \n",
      " dense_1 (Dense)             (None, 100)               12900     \n",
      "                                                                 \n",
      "=================================================================\n",
      "Total params: 93,764\n",
      "Trainable params: 93,764\n",
      "Non-trainable params: 0\n",
      "_________________________________________________________________\n"
     ]
    }
   ],
   "source": [
    "baseline_model.summary()"
   ]
  },
  {
   "cell_type": "code",
   "execution_count": null,
   "metadata": {
    "colab": {
     "base_uri": "https://localhost:8080/",
     "height": 758
    },
    "id": "t2q0K2tw-kLd",
    "outputId": "77380ce8-4f7f-4b70-a715-8fcb9438d52e"
   },
   "outputs": [
    {
     "data": {
      "image/png": "[encoded data removed]",
      "text/plain": [
       "<IPython.core.display.Image object>"
      ]
     },
     "execution_count": 19,
     "metadata": {},
     "output_type": "execute_result"
    }
   ],
   "source": [
    "from keras.utils.vis_utils import plot_model\n",
    "tf.keras.utils.plot_model(\n",
    "baseline_model , to_file='baseline_model.png', show_shapes=False, show_dtype=False,\n",
    "show_layer_names=True, rankdir='TB', expand_nested=False, dpi=96\n",
    ")"
   ]
  },
  {
   "cell_type": "code",
   "execution_count": null,
   "metadata": {
    "id": "nFR_SglJxwhI"
   },
   "outputs": [],
   "source": [
    "def baseline_model_train(baseline_model, train_images, train_labels):\n",
    "  batch_size = 32\n",
    "  validation_split = 0.25\n",
    "  verbosity = 1\n",
    "  no_epochs = 30\n",
    "  initial_learning_rate = 0.001\n",
    "\n",
    "  #Early stopping the runs incase the validation loss does not improve\n",
    "  earlystopper = EarlyStopping(monitor='val_loss', mode='min',\n",
    "                               verbose=1, patience=7)\n",
    "  #Checkpointing the model to local storage on the basis of validation accuracy\n",
    "  modelcheckpointer = ModelCheckpoint('best_model_baseline.h5',\n",
    "                                      monitor='val_accuracy',\n",
    "                                      mode='max',\n",
    "                                      verbose=1, save_best_only=True)\n",
    "  # Reducing learning rate on the basis of valiation loss\n",
    "  reduce_lr = ReduceLROnPlateau(monitor='val_loss', factor=0.2,\n",
    "                                patience=4, min_lr=0.0001)\n",
    "\n",
    "  baseline_model.compile(\n",
    "      optimizer = tf.keras.optimizers.Adamax(learning_rate=initial_learning_rate),\n",
    "      loss = tf.keras.losses.SparseCategoricalCrossentropy(from_logits=True),\n",
    "      metrics=[ tf.keras.metrics.SparseCategoricalAccuracy(name=\"accuracy\"),],)\n",
    "\n",
    "  history = baseline_model.fit(train_images, train_labels,\n",
    "              batch_size=batch_size,\n",
    "              epochs=no_epochs,\n",
    "              verbose=verbosity,\n",
    "              validation_split=validation_split, callbacks=[modelcheckpointer, reduce_lr, earlystopper])\n",
    "  \n",
    "  #Load the model and evaluate it\n",
    "  saved_model = load_model('best_model_baseline.h5')\n",
    "  _, test_accuracy = saved_model.evaluate(test_images,  test_labels, verbose=1)\n",
    "  print('Accuracy on test data : %.2f' % (test_accuracy))\n",
    "\n",
    "  return history"
   ]
  },
  {
   "cell_type": "code",
   "execution_count": null,
   "metadata": {
    "colab": {
     "base_uri": "https://localhost:8080/"
    },
    "id": "0DJHPg25xwet",
    "outputId": "d50b8cd8-2878-45a0-93b8-cce8fd22b63d"
   },
   "outputs": [
    {
     "name": "stdout",
     "output_type": "stream",
     "text": [
      "Epoch 1/30\n",
      "1172/1172 [==============================] - ETA: 0s - loss: 4.1952 - accuracy: 0.0640\n",
      "Epoch 1: val_accuracy improved from -inf to 0.11032, saving model to best_model_baseline.h5\n",
      "1172/1172 [==============================] - 6s 5ms/step - loss: 4.1952 - accuracy: 0.0640 - val_loss: 3.9378 - val_accuracy: 0.1103 - lr: 0.0010\n",
      "Epoch 2/30\n",
      "1172/1172 [==============================] - ETA: 0s - loss: 3.7733 - accuracy: 0.1334\n",
      "Epoch 2: val_accuracy improved from 0.11032 to 0.15336, saving model to best_model_baseline.h5\n",
      "1172/1172 [==============================] - 5s 5ms/step - loss: 3.7733 - accuracy: 0.1334 - val_loss: 3.6718 - val_accuracy: 0.1534 - lr: 0.0010\n",
      "Epoch 3/30\n",
      "1166/1172 [============================>.] - ETA: 0s - loss: 3.5619 - accuracy: 0.1690\n",
      "Epoch 3: val_accuracy improved from 0.15336 to 0.17296, saving model to best_model_baseline.h5\n",
      "1172/1172 [==============================] - 5s 4ms/step - loss: 3.5617 - accuracy: 0.1689 - val_loss: 3.5253 - val_accuracy: 0.1730 - lr: 0.0010\n",
      "Epoch 4/30\n",
      "1169/1172 [============================>.] - ETA: 0s - loss: 3.4020 - accuracy: 0.1953\n",
      "Epoch 4: val_accuracy improved from 0.17296 to 0.19608, saving model to best_model_baseline.h5\n",
      "1172/1172 [==============================] - 5s 4ms/step - loss: 3.4018 - accuracy: 0.1955 - val_loss: 3.4112 - val_accuracy: 0.1961 - lr: 0.0010\n",
      "Epoch 5/30\n",
      "1168/1172 [============================>.] - ETA: 0s - loss: 3.2667 - accuracy: 0.2225\n",
      "Epoch 5: val_accuracy improved from 0.19608 to 0.22000, saving model to best_model_baseline.h5\n",
      "1172/1172 [==============================] - 5s 4ms/step - loss: 3.2668 - accuracy: 0.2223 - val_loss: 3.2995 - val_accuracy: 0.2200 - lr: 0.0010\n",
      "Epoch 6/30\n",
      "1163/1172 [============================>.] - ETA: 0s - loss: 3.1656 - accuracy: 0.2380\n",
      "Epoch 6: val_accuracy improved from 0.22000 to 0.22904, saving model to best_model_baseline.h5\n",
      "1172/1172 [==============================] - 5s 4ms/step - loss: 3.1644 - accuracy: 0.2383 - val_loss: 3.2372 - val_accuracy: 0.2290 - lr: 0.0010\n",
      "Epoch 7/30\n",
      "1160/1172 [============================>.] - ETA: 0s - loss: 3.0678 - accuracy: 0.2565\n",
      "Epoch 7: val_accuracy improved from 0.22904 to 0.23176, saving model to best_model_baseline.h5\n",
      "1172/1172 [==============================] - 5s 5ms/step - loss: 3.0677 - accuracy: 0.2564 - val_loss: 3.1880 - val_accuracy: 0.2318 - lr: 0.0010\n",
      "Epoch 8/30\n",
      "1159/1172 [============================>.] - ETA: 0s - loss: 2.9916 - accuracy: 0.2728\n",
      "Epoch 8: val_accuracy improved from 0.23176 to 0.25368, saving model to best_model_baseline.h5\n",
      "1172/1172 [==============================] - 5s 5ms/step - loss: 2.9909 - accuracy: 0.2729 - val_loss: 3.1035 - val_accuracy: 0.2537 - lr: 0.0010\n",
      "Epoch 9/30\n",
      "1162/1172 [============================>.] - ETA: 0s - loss: 2.9184 - accuracy: 0.2880\n",
      "Epoch 9: val_accuracy improved from 0.25368 to 0.26088, saving model to best_model_baseline.h5\n",
      "1172/1172 [==============================] - 5s 4ms/step - loss: 2.9180 - accuracy: 0.2881 - val_loss: 3.0752 - val_accuracy: 0.2609 - lr: 0.0010\n",
      "Epoch 10/30\n",
      "1171/1172 [============================>.] - ETA: 0s - loss: 2.8503 - accuracy: 0.3000\n",
      "Epoch 10: val_accuracy improved from 0.26088 to 0.26112, saving model to best_model_baseline.h5\n",
      "1172/1172 [==============================] - 5s 5ms/step - loss: 2.8503 - accuracy: 0.3000 - val_loss: 3.0673 - val_accuracy: 0.2611 - lr: 0.0010\n",
      "Epoch 11/30\n",
      "1169/1172 [============================>.] - ETA: 0s - loss: 2.7917 - accuracy: 0.3116\n",
      "Epoch 11: val_accuracy improved from 0.26112 to 0.27688, saving model to best_model_baseline.h5\n",
      "1172/1172 [==============================] - 5s 5ms/step - loss: 2.7909 - accuracy: 0.3117 - val_loss: 2.9889 - val_accuracy: 0.2769 - lr: 0.0010\n",
      "Epoch 12/30\n",
      "1162/1172 [============================>.] - ETA: 0s - loss: 2.7444 - accuracy: 0.3190\n",
      "Epoch 12: val_accuracy improved from 0.27688 to 0.27808, saving model to best_model_baseline.h5\n",
      "1172/1172 [==============================] - 5s 5ms/step - loss: 2.7434 - accuracy: 0.3192 - val_loss: 2.9987 - val_accuracy: 0.2781 - lr: 0.0010\n",
      "Epoch 13/30\n",
      "1163/1172 [============================>.] - ETA: 0s - loss: 2.6893 - accuracy: 0.3313\n",
      "Epoch 13: val_accuracy improved from 0.27808 to 0.28616, saving model to best_model_baseline.h5\n",
      "1172/1172 [==============================] - 5s 5ms/step - loss: 2.6898 - accuracy: 0.3311 - val_loss: 2.9597 - val_accuracy: 0.2862 - lr: 0.0010\n",
      "Epoch 14/30\n",
      "1163/1172 [============================>.] - ETA: 0s - loss: 2.6447 - accuracy: 0.3410\n",
      "Epoch 14: val_accuracy improved from 0.28616 to 0.28640, saving model to best_model_baseline.h5\n",
      "1172/1172 [==============================] - 5s 4ms/step - loss: 2.6436 - accuracy: 0.3408 - val_loss: 2.9595 - val_accuracy: 0.2864 - lr: 0.0010\n",
      "Epoch 15/30\n",
      "1160/1172 [============================>.] - ETA: 0s - loss: 2.5946 - accuracy: 0.3516\n",
      "Epoch 15: val_accuracy improved from 0.28640 to 0.30184, saving model to best_model_baseline.h5\n",
      "1172/1172 [==============================] - 5s 5ms/step - loss: 2.5943 - accuracy: 0.3515 - val_loss: 2.8945 - val_accuracy: 0.3018 - lr: 0.0010\n",
      "Epoch 16/30\n",
      "1171/1172 [============================>.] - ETA: 0s - loss: 2.5523 - accuracy: 0.3613\n",
      "Epoch 16: val_accuracy improved from 0.30184 to 0.30240, saving model to best_model_baseline.h5\n",
      "1172/1172 [==============================] - 5s 4ms/step - loss: 2.5524 - accuracy: 0.3613 - val_loss: 2.9008 - val_accuracy: 0.3024 - lr: 0.0010\n",
      "Epoch 17/30\n",
      "1167/1172 [============================>.] - ETA: 0s - loss: 2.5076 - accuracy: 0.3675\n",
      "Epoch 17: val_accuracy improved from 0.30240 to 0.30384, saving model to best_model_baseline.h5\n",
      "1172/1172 [==============================] - 5s 4ms/step - loss: 2.5077 - accuracy: 0.3674 - val_loss: 2.8972 - val_accuracy: 0.3038 - lr: 0.0010\n",
      "Epoch 18/30\n",
      "1161/1172 [============================>.] - ETA: 0s - loss: 2.4731 - accuracy: 0.3766\n",
      "Epoch 18: val_accuracy did not improve from 0.30384\n",
      "1172/1172 [==============================] - 5s 5ms/step - loss: 2.4725 - accuracy: 0.3769 - val_loss: 2.9056 - val_accuracy: 0.2996 - lr: 0.0010\n",
      "Epoch 19/30\n",
      "1166/1172 [============================>.] - ETA: 0s - loss: 2.4338 - accuracy: 0.3846\n",
      "Epoch 19: val_accuracy improved from 0.30384 to 0.30784, saving model to best_model_baseline.h5\n",
      "1172/1172 [==============================] - 5s 5ms/step - loss: 2.4332 - accuracy: 0.3848 - val_loss: 2.8774 - val_accuracy: 0.3078 - lr: 0.0010\n",
      "Epoch 20/30\n",
      "1165/1172 [============================>.] - ETA: 0s - loss: 2.4027 - accuracy: 0.3911\n",
      "Epoch 20: val_accuracy did not improve from 0.30784\n",
      "1172/1172 [==============================] - 6s 5ms/step - loss: 2.4027 - accuracy: 0.3910 - val_loss: 2.8896 - val_accuracy: 0.3068 - lr: 0.0010\n",
      "Epoch 21/30\n",
      "1166/1172 [============================>.] - ETA: 0s - loss: 2.3658 - accuracy: 0.3988\n",
      "Epoch 21: val_accuracy improved from 0.30784 to 0.31336, saving model to best_model_baseline.h5\n",
      "1172/1172 [==============================] - 5s 5ms/step - loss: 2.3653 - accuracy: 0.3988 - val_loss: 2.8950 - val_accuracy: 0.3134 - lr: 0.0010\n",
      "Epoch 22/30\n",
      "1164/1172 [============================>.] - ETA: 0s - loss: 2.3307 - accuracy: 0.4056\n",
      "Epoch 22: val_accuracy improved from 0.31336 to 0.31704, saving model to best_model_baseline.h5\n",
      "1172/1172 [==============================] - 5s 4ms/step - loss: 2.3304 - accuracy: 0.4057 - val_loss: 2.8460 - val_accuracy: 0.3170 - lr: 0.0010\n",
      "Epoch 23/30\n",
      "1165/1172 [============================>.] - ETA: 0s - loss: 2.3040 - accuracy: 0.4142\n",
      "Epoch 23: val_accuracy improved from 0.31704 to 0.31864, saving model to best_model_baseline.h5\n",
      "1172/1172 [==============================] - 5s 4ms/step - loss: 2.3033 - accuracy: 0.4145 - val_loss: 2.8493 - val_accuracy: 0.3186 - lr: 0.0010\n",
      "Epoch 24/30\n",
      "1165/1172 [============================>.] - ETA: 0s - loss: 2.2687 - accuracy: 0.4217\n",
      "Epoch 24: val_accuracy improved from 0.31864 to 0.31952, saving model to best_model_baseline.h5\n",
      "1172/1172 [==============================] - 5s 5ms/step - loss: 2.2708 - accuracy: 0.4211 - val_loss: 2.8522 - val_accuracy: 0.3195 - lr: 0.0010\n",
      "Epoch 25/30\n",
      "1162/1172 [============================>.] - ETA: 0s - loss: 2.2407 - accuracy: 0.4261\n",
      "Epoch 25: val_accuracy did not improve from 0.31952\n",
      "1172/1172 [==============================] - 5s 5ms/step - loss: 2.2414 - accuracy: 0.4261 - val_loss: 2.8636 - val_accuracy: 0.3158 - lr: 0.0010\n",
      "Epoch 26/30\n",
      "1170/1172 [============================>.] - ETA: 0s - loss: 2.2133 - accuracy: 0.4347\n",
      "Epoch 26: val_accuracy improved from 0.31952 to 0.32496, saving model to best_model_baseline.h5\n",
      "1172/1172 [==============================] - 5s 4ms/step - loss: 2.2132 - accuracy: 0.4347 - val_loss: 2.8551 - val_accuracy: 0.3250 - lr: 0.0010\n",
      "Epoch 27/30\n",
      "1166/1172 [============================>.] - ETA: 0s - loss: 2.0568 - accuracy: 0.4712\n",
      "Epoch 27: val_accuracy improved from 0.32496 to 0.33784, saving model to best_model_baseline.h5\n",
      "1172/1172 [==============================] - 6s 5ms/step - loss: 2.0567 - accuracy: 0.4713 - val_loss: 2.8010 - val_accuracy: 0.3378 - lr: 2.0000e-04\n",
      "Epoch 28/30\n",
      "1158/1172 [============================>.] - ETA: 0s - loss: 2.0371 - accuracy: 0.4741\n",
      "Epoch 28: val_accuracy improved from 0.33784 to 0.34104, saving model to best_model_baseline.h5\n",
      "1172/1172 [==============================] - 5s 4ms/step - loss: 2.0369 - accuracy: 0.4740 - val_loss: 2.8051 - val_accuracy: 0.3410 - lr: 2.0000e-04\n",
      "Epoch 29/30\n",
      "1163/1172 [============================>.] - ETA: 0s - loss: 2.0267 - accuracy: 0.4785\n",
      "Epoch 29: val_accuracy did not improve from 0.34104\n",
      "1172/1172 [==============================] - 5s 5ms/step - loss: 2.0276 - accuracy: 0.4783 - val_loss: 2.8026 - val_accuracy: 0.3384 - lr: 2.0000e-04\n",
      "Epoch 30/30\n",
      "1168/1172 [============================>.] - ETA: 0s - loss: 2.0202 - accuracy: 0.4793\n",
      "Epoch 30: val_accuracy did not improve from 0.34104\n",
      "1172/1172 [==============================] - 5s 5ms/step - loss: 2.0206 - accuracy: 0.4790 - val_loss: 2.8066 - val_accuracy: 0.3378 - lr: 2.0000e-04\n",
      "313/313 [==============================] - 1s 3ms/step - loss: 2.8009 - accuracy: 0.3364\n",
      "Accuracy on test data : 0.34\n"
     ]
    }
   ],
   "source": [
    "train_hist_baseline = baseline_model_train(baseline_model, train_images, train_labels)"
   ]
  },
  {
   "cell_type": "code",
   "execution_count": 3,
   "metadata": {
    "id": "HZ8RlsXgxwZW"
   },
   "outputs": [],
   "source": [
    "# Method to plot the accuracy over training set and validation set\n",
    "def create_accuracy_plot(model_hist):\n",
    "    plt.plot(model_hist.history[\"accuracy\"])\n",
    "    plt.plot(model_hist.history[\"val_accuracy\"])\n",
    "    plt.title(\"model performance\")\n",
    "    plt.ylabel(\"accuracy score\")\n",
    "    plt.xlabel(\"num_epoch\")\n",
    "    plt.legend([\"train_set\", \"validation_set\"], loc=\"upper left\")\n",
    "    plt.show()"
   ]
  },
  {
   "cell_type": "code",
   "execution_count": null,
   "metadata": {
    "colab": {
     "base_uri": "https://localhost:8080/",
     "height": 296
    },
    "id": "wz4Gl6v1xwW7",
    "outputId": "724e3c24-3cbe-4987-9e4a-b79b000ba9b8"
   },
   "outputs": [
    {
     "data": {
      "image/png": "[encoded data removed]",
      "text/plain": [
       "<Figure size 432x288 with 1 Axes>"
      ]
     },
     "metadata": {
      "needs_background": "light"
     },
     "output_type": "display_data"
    }
   ],
   "source": [
    "create_accuracy_plot(train_hist_baseline)"
   ]
  },
  {
   "cell_type": "markdown",
   "metadata": {
    "id": "5e3yLGukz13m"
   },
   "source": [
    "### Task 2: Improve Baseline Model Performance"
   ]
  },
  {
   "cell_type": "code",
   "execution_count": null,
   "metadata": {
    "id": "JaHJsWIPxwUa"
   },
   "outputs": [],
   "source": [
    "# Function to improve the baseline model\n",
    "def create_improved_model():\n",
    "  \n",
    "  tf.compat.v1.reset_default_graph()\n",
    "  improved_model = Sequential()\n",
    "  improved_model.add(Conv2D(32, kernel_size=(3, 3), activation=LeakyReLU(0.1), input_shape=(32, 32, 3)))\n",
    "  improved_model.add(tf.keras.layers.BatchNormalization(momentum=0.8, epsilon=0.003))\n",
    "  improved_model.add(Conv2D(64, kernel_size=(3, 3), padding=\"same\", activation=LeakyReLU(0.1)))\n",
    "  improved_model.add(tf.keras.layers.BatchNormalization(momentum=0.8, epsilon=0.003))\n",
    "  improved_model.add(MaxPooling2D(pool_size=(2, 2),  strides=2))\n",
    "  improved_model.add(Conv2D(128, kernel_size=(3, 3), padding=\"same\", activation=LeakyReLU(0.1)))\n",
    "  improved_model.add(tf.keras.layers.BatchNormalization(momentum=0.8, epsilon=0.003))\n",
    "  improved_model.add(MaxPooling2D(pool_size=(2, 2),  strides=2))\n",
    "  improved_model.add(Dropout(0.2))\n",
    "  improved_model.add(Flatten())\n",
    "  improved_model.add(Dense(128, activation=LeakyReLU(0.1)))\n",
    "  #Output layer with softmax activation\n",
    "  improved_model.add(Dense(100, activation='softmax'))\n",
    "  \n",
    "  return improved_model"
   ]
  },
  {
   "cell_type": "code",
   "execution_count": null,
   "metadata": {
    "id": "mDyOTGxw3Hqx"
   },
   "outputs": [],
   "source": [
    "improved_model = create_improved_model()"
   ]
  },
  {
   "cell_type": "code",
   "execution_count": null,
   "metadata": {
    "colab": {
     "base_uri": "https://localhost:8080/"
    },
    "id": "vCQ5AXN9niRu",
    "outputId": "a3d02e6d-5b55-4f72-bda3-7e9e715e86d3"
   },
   "outputs": [
    {
     "name": "stdout",
     "output_type": "stream",
     "text": [
      "Model: \"sequential\"\n",
      "_________________________________________________________________\n",
      " Layer (type)                Output Shape              Param #   \n",
      "=================================================================\n",
      " conv2d (Conv2D)             (None, 30, 30, 32)        896       \n",
      "                                                                 \n",
      " batch_normalization (BatchN  (None, 30, 30, 32)       128       \n",
      " ormalization)                                                   \n",
      "                                                                 \n",
      " conv2d_1 (Conv2D)           (None, 30, 30, 64)        18496     \n",
      "                                                                 \n",
      " batch_normalization_1 (Batc  (None, 30, 30, 64)       256       \n",
      " hNormalization)                                                 \n",
      "                                                                 \n",
      " max_pooling2d (MaxPooling2D  (None, 15, 15, 64)       0         \n",
      " )                                                               \n",
      "                                                                 \n",
      " conv2d_2 (Conv2D)           (None, 15, 15, 128)       73856     \n",
      "                                                                 \n",
      " batch_normalization_2 (Batc  (None, 15, 15, 128)      512       \n",
      " hNormalization)                                                 \n",
      "                                                                 \n",
      " max_pooling2d_1 (MaxPooling  (None, 7, 7, 128)        0         \n",
      " 2D)                                                             \n",
      "                                                                 \n",
      " dropout (Dropout)           (None, 7, 7, 128)         0         \n",
      "                                                                 \n",
      " flatten (Flatten)           (None, 6272)              0         \n",
      "                                                                 \n",
      " dense (Dense)               (None, 128)               802944    \n",
      "                                                                 \n",
      " dense_1 (Dense)             (None, 100)               12900     \n",
      "                                                                 \n",
      "=================================================================\n",
      "Total params: 909,988\n",
      "Trainable params: 909,540\n",
      "Non-trainable params: 448\n",
      "_________________________________________________________________\n"
     ]
    }
   ],
   "source": [
    "improved_model.summary()"
   ]
  },
  {
   "cell_type": "code",
   "execution_count": null,
   "metadata": {
    "colab": {
     "base_uri": "https://localhost:8080/",
     "height": 1000
    },
    "id": "jqEMjeN35pz0",
    "outputId": "a7696f22-61c9-4bf6-eb45-03a443ddeecd"
   },
   "outputs": [
    {
     "data": {
      "image/png": "[encoded data removed]",
      "text/plain": [
       "<IPython.core.display.Image object>"
      ]
     },
     "execution_count": 9,
     "metadata": {},
     "output_type": "execute_result"
    }
   ],
   "source": [
    "from keras.utils.vis_utils import plot_model\n",
    "tf.keras.utils.plot_model(\n",
    "improved_model , to_file='improved_model.png', show_shapes=False, show_dtype=False, show_layer_names=True, rankdir='TB', expand_nested=False, dpi=96)"
   ]
  },
  {
   "cell_type": "code",
   "execution_count": null,
   "metadata": {
    "id": "gftKmlnPz1jm"
   },
   "outputs": [],
   "source": [
    "def improved_model_train(improved_model,\n",
    "                         train_images,\n",
    "                         train_labels,\n",
    "                         test_images,\n",
    "                         test_labels):\n",
    "  batch_size = 40\n",
    "  validation_split = 0.25\n",
    "  no_epochs = 50\n",
    "  initial_learning_rate = 0.001\n",
    "\n",
    "  #Early stopping the runs incase the validation loss does not improve\n",
    "  earlystopper = EarlyStopping(monitor='val_loss',\n",
    "                               mode='min', verbose=1,\n",
    "                               patience=10)\n",
    "  \n",
    "  #Checkpointing the model to local storage on the basis of validation accuracy\n",
    "  modelcheckpointer = ModelCheckpoint('best_model_improved.h5',\n",
    "                                      monitor='val_accuracy',\n",
    "                                      mode='max', verbose=1,\n",
    "                                      save_best_only=True)\n",
    "  \n",
    "  #Reducing the learning rate when the validation accuracy does not increase\n",
    "  reduce_lr = ReduceLROnPlateau(monitor='val_loss', factor=0.2,\n",
    "                                patience=3, min_lr=0.00001)\n",
    "\n",
    "  optimizer = tf.keras.optimizers.Adamax(learning_rate=initial_learning_rate)\n",
    "\n",
    "  improved_model.compile(\n",
    "      optimizer=optimizer,\n",
    "      loss=tf.keras.losses.SparseCategoricalCrossentropy(),\n",
    "      metrics=[\n",
    "          tf.keras.metrics.SparseCategoricalAccuracy(name=\"accuracy\"),\n",
    "      ],\n",
    "  )\n",
    "\n",
    "  # Data Augmentation using Image DataGenerator to add some variablity to the training set\n",
    "  train_data_generator = ImageDataGenerator(rotation_range=10,\n",
    "                                      zoom_range=0.3,\n",
    "                                      horizontal_flip=True,\n",
    "                                      vertical_flip=False,\n",
    "                                      fill_mode='constant')\n",
    "\n",
    "  generated_train_data = train_data_generator.flow(train_images,\n",
    "                                                   train_labels, \n",
    "                                                   batch_size=batch_size,\n",
    "                                                   shuffle=True)\n",
    "\n",
    "  test_data_generator = ImageDataGenerator()\n",
    "  generated_test_data = test_data_generator.flow(test_images,\n",
    "                                                 test_labels,\n",
    "                                                 shuffle=True)\n",
    "\n",
    "  # Training the improved model with augmented data\n",
    "  history = improved_model.fit(generated_train_data,\n",
    "                      steps_per_epoch= len(generated_train_data),\n",
    "                      epochs=no_epochs,\n",
    "                      validation_steps = len(generated_test_data),\n",
    "                      verbose=1, validation_data=generated_test_data, callbacks=[modelcheckpointer, reduce_lr, earlystopper])\n",
    "  #Evaluate the model\n",
    "  saved_model = load_model('best_model_improved.h5')\n",
    "  test_loss, test_accuracy = saved_model.evaluate_generator(generated_test_data, steps=len(test_images)//batch_size)\n",
    "  print('Accuracy on test data : %.3f' % (test_accuracy))\n",
    "\n",
    "  return history\n"
   ]
  },
  {
   "cell_type": "code",
   "execution_count": null,
   "metadata": {
    "colab": {
     "base_uri": "https://localhost:8080/"
    },
    "id": "R98MadRrz1g-",
    "outputId": "30b70759-431f-4db2-ceec-e88a57eb928e"
   },
   "outputs": [
    {
     "name": "stdout",
     "output_type": "stream",
     "text": [
      "Epoch 1/50\n",
      "1249/1250 [============================>.] - ETA: 0s - loss: 4.1123 - accuracy: 0.0982\n",
      "Epoch 1: val_accuracy improved from -inf to 0.16400, saving model to best_model_improved.h5\n",
      "1250/1250 [==============================] - 37s 21ms/step - loss: 4.1119 - accuracy: 0.0983 - val_loss: 3.6745 - val_accuracy: 0.1640 - lr: 0.0010\n",
      "Epoch 2/50\n",
      "1249/1250 [============================>.] - ETA: 0s - loss: 3.4644 - accuracy: 0.1907\n",
      "Epoch 2: val_accuracy improved from 0.16400 to 0.22880, saving model to best_model_improved.h5\n",
      "1250/1250 [==============================] - 27s 21ms/step - loss: 3.4643 - accuracy: 0.1907 - val_loss: 3.2600 - val_accuracy: 0.2288 - lr: 0.0010\n",
      "Epoch 3/50\n",
      "1248/1250 [============================>.] - ETA: 0s - loss: 3.0468 - accuracy: 0.2602\n",
      "Epoch 3: val_accuracy improved from 0.22880 to 0.28280, saving model to best_model_improved.h5\n",
      "1250/1250 [==============================] - 26s 21ms/step - loss: 3.0463 - accuracy: 0.2604 - val_loss: 2.9212 - val_accuracy: 0.2828 - lr: 0.0010\n",
      "Epoch 4/50\n",
      "1250/1250 [==============================] - ETA: 0s - loss: 2.7645 - accuracy: 0.3115\n",
      "Epoch 4: val_accuracy improved from 0.28280 to 0.33430, saving model to best_model_improved.h5\n",
      "1250/1250 [==============================] - 26s 21ms/step - loss: 2.7645 - accuracy: 0.3115 - val_loss: 2.6905 - val_accuracy: 0.3343 - lr: 0.0010\n",
      "Epoch 5/50\n",
      "1249/1250 [============================>.] - ETA: 0s - loss: 2.5619 - accuracy: 0.3516\n",
      "Epoch 5: val_accuracy improved from 0.33430 to 0.34410, saving model to best_model_improved.h5\n",
      "1250/1250 [==============================] - 25s 20ms/step - loss: 2.5618 - accuracy: 0.3516 - val_loss: 2.6777 - val_accuracy: 0.3441 - lr: 0.0010\n",
      "Epoch 6/50\n",
      "1250/1250 [==============================] - ETA: 0s - loss: 2.4093 - accuracy: 0.3834\n",
      "Epoch 6: val_accuracy improved from 0.34410 to 0.37980, saving model to best_model_improved.h5\n",
      "1250/1250 [==============================] - 26s 20ms/step - loss: 2.4093 - accuracy: 0.3834 - val_loss: 2.4862 - val_accuracy: 0.3798 - lr: 0.0010\n",
      "Epoch 7/50\n",
      "1250/1250 [==============================] - ETA: 0s - loss: 2.2883 - accuracy: 0.4100\n",
      "Epoch 7: val_accuracy improved from 0.37980 to 0.39790, saving model to best_model_improved.h5\n",
      "1250/1250 [==============================] - 26s 20ms/step - loss: 2.2883 - accuracy: 0.4100 - val_loss: 2.4395 - val_accuracy: 0.3979 - lr: 0.0010\n",
      "Epoch 8/50\n",
      "1248/1250 [============================>.] - ETA: 0s - loss: 2.1860 - accuracy: 0.4318\n",
      "Epoch 8: val_accuracy did not improve from 0.39790\n",
      "1250/1250 [==============================] - 25s 20ms/step - loss: 2.1862 - accuracy: 0.4315 - val_loss: 2.4095 - val_accuracy: 0.3973 - lr: 0.0010\n",
      "Epoch 9/50\n",
      "1249/1250 [============================>.] - ETA: 0s - loss: 2.0981 - accuracy: 0.4500\n",
      "Epoch 9: val_accuracy improved from 0.39790 to 0.41840, saving model to best_model_improved.h5\n",
      "1250/1250 [==============================] - 27s 22ms/step - loss: 2.0984 - accuracy: 0.4499 - val_loss: 2.3215 - val_accuracy: 0.4184 - lr: 0.0010\n",
      "Epoch 10/50\n",
      "1247/1250 [============================>.] - ETA: 0s - loss: 2.0187 - accuracy: 0.4694\n",
      "Epoch 10: val_accuracy improved from 0.41840 to 0.43380, saving model to best_model_improved.h5\n",
      "1250/1250 [==============================] - 26s 21ms/step - loss: 2.0185 - accuracy: 0.4695 - val_loss: 2.2692 - val_accuracy: 0.4338 - lr: 0.0010\n",
      "Epoch 11/50\n",
      "1248/1250 [============================>.] - ETA: 0s - loss: 1.9535 - accuracy: 0.4814\n",
      "Epoch 11: val_accuracy improved from 0.43380 to 0.43660, saving model to best_model_improved.h5\n",
      "1250/1250 [==============================] - 26s 21ms/step - loss: 1.9534 - accuracy: 0.4814 - val_loss: 2.2441 - val_accuracy: 0.4366 - lr: 0.0010\n",
      "Epoch 12/50\n",
      "1249/1250 [============================>.] - ETA: 0s - loss: 1.8889 - accuracy: 0.4991\n",
      "Epoch 12: val_accuracy improved from 0.43660 to 0.44110, saving model to best_model_improved.h5\n",
      "1250/1250 [==============================] - 25s 20ms/step - loss: 1.8893 - accuracy: 0.4990 - val_loss: 2.2275 - val_accuracy: 0.4411 - lr: 0.0010\n",
      "Epoch 13/50\n",
      "1248/1250 [============================>.] - ETA: 0s - loss: 1.8357 - accuracy: 0.5088\n",
      "Epoch 13: val_accuracy improved from 0.44110 to 0.44420, saving model to best_model_improved.h5\n",
      "1250/1250 [==============================] - 25s 20ms/step - loss: 1.8360 - accuracy: 0.5086 - val_loss: 2.2440 - val_accuracy: 0.4442 - lr: 0.0010\n",
      "Epoch 14/50\n",
      "1250/1250 [==============================] - ETA: 0s - loss: 1.7873 - accuracy: 0.5202\n",
      "Epoch 14: val_accuracy improved from 0.44420 to 0.45880, saving model to best_model_improved.h5\n",
      "1250/1250 [==============================] - 26s 21ms/step - loss: 1.7873 - accuracy: 0.5202 - val_loss: 2.1539 - val_accuracy: 0.4588 - lr: 0.0010\n",
      "Epoch 15/50\n",
      "1250/1250 [==============================] - ETA: 0s - loss: 1.7386 - accuracy: 0.5318\n",
      "Epoch 15: val_accuracy improved from 0.45880 to 0.45970, saving model to best_model_improved.h5\n",
      "1250/1250 [==============================] - 26s 20ms/step - loss: 1.7386 - accuracy: 0.5318 - val_loss: 2.1805 - val_accuracy: 0.4597 - lr: 0.0010\n",
      "Epoch 16/50\n",
      "1249/1250 [============================>.] - ETA: 0s - loss: 1.6956 - accuracy: 0.5422\n",
      "Epoch 16: val_accuracy improved from 0.45970 to 0.46530, saving model to best_model_improved.h5\n",
      "1250/1250 [==============================] - 25s 20ms/step - loss: 1.6956 - accuracy: 0.5423 - val_loss: 2.1813 - val_accuracy: 0.4653 - lr: 0.0010\n",
      "Epoch 17/50\n",
      "1248/1250 [============================>.] - ETA: 0s - loss: 1.6618 - accuracy: 0.5507\n",
      "Epoch 17: val_accuracy improved from 0.46530 to 0.46700, saving model to best_model_improved.h5\n",
      "1250/1250 [==============================] - 25s 20ms/step - loss: 1.6615 - accuracy: 0.5507 - val_loss: 2.1809 - val_accuracy: 0.4670 - lr: 0.0010\n",
      "Epoch 18/50\n",
      "1248/1250 [============================>.] - ETA: 0s - loss: 1.5151 - accuracy: 0.5856\n",
      "Epoch 18: val_accuracy improved from 0.46700 to 0.47700, saving model to best_model_improved.h5\n",
      "1250/1250 [==============================] - 25s 20ms/step - loss: 1.5152 - accuracy: 0.5856 - val_loss: 2.1484 - val_accuracy: 0.4770 - lr: 2.0000e-04\n",
      "Epoch 19/50\n",
      "1249/1250 [============================>.] - ETA: 0s - loss: 1.4755 - accuracy: 0.5940\n",
      "Epoch 19: val_accuracy improved from 0.47700 to 0.48920, saving model to best_model_improved.h5\n",
      "1250/1250 [==============================] - 25s 20ms/step - loss: 1.4753 - accuracy: 0.5941 - val_loss: 2.1093 - val_accuracy: 0.4892 - lr: 2.0000e-04\n",
      "Epoch 20/50\n",
      "1249/1250 [============================>.] - ETA: 0s - loss: 1.4577 - accuracy: 0.6008\n",
      "Epoch 20: val_accuracy did not improve from 0.48920\n",
      "1250/1250 [==============================] - 25s 20ms/step - loss: 1.4576 - accuracy: 0.6008 - val_loss: 2.1029 - val_accuracy: 0.4876 - lr: 2.0000e-04\n",
      "Epoch 21/50\n",
      "1249/1250 [============================>.] - ETA: 0s - loss: 1.4374 - accuracy: 0.6050\n",
      "Epoch 21: val_accuracy improved from 0.48920 to 0.49520, saving model to best_model_improved.h5\n",
      "1250/1250 [==============================] - 25s 20ms/step - loss: 1.4380 - accuracy: 0.6049 - val_loss: 2.0699 - val_accuracy: 0.4952 - lr: 2.0000e-04\n",
      "Epoch 22/50\n",
      "1250/1250 [==============================] - ETA: 0s - loss: 1.4191 - accuracy: 0.6082\n",
      "Epoch 22: val_accuracy did not improve from 0.49520\n",
      "1250/1250 [==============================] - 25s 20ms/step - loss: 1.4191 - accuracy: 0.6082 - val_loss: 2.0974 - val_accuracy: 0.4884 - lr: 2.0000e-04\n",
      "Epoch 23/50\n",
      "1248/1250 [============================>.] - ETA: 0s - loss: 1.4104 - accuracy: 0.6111\n",
      "Epoch 23: val_accuracy did not improve from 0.49520\n",
      "1250/1250 [==============================] - 25s 20ms/step - loss: 1.4102 - accuracy: 0.6112 - val_loss: 2.1242 - val_accuracy: 0.4892 - lr: 2.0000e-04\n",
      "Epoch 24/50\n",
      "1248/1250 [============================>.] - ETA: 0s - loss: 1.4036 - accuracy: 0.6117\n",
      "Epoch 24: val_accuracy did not improve from 0.49520\n",
      "1250/1250 [==============================] - 25s 20ms/step - loss: 1.4032 - accuracy: 0.6118 - val_loss: 2.0773 - val_accuracy: 0.4947 - lr: 2.0000e-04\n",
      "Epoch 25/50\n",
      "1248/1250 [============================>.] - ETA: 0s - loss: 1.3641 - accuracy: 0.6218\n",
      "Epoch 25: val_accuracy improved from 0.49520 to 0.49770, saving model to best_model_improved.h5\n",
      "1250/1250 [==============================] - 25s 20ms/step - loss: 1.3638 - accuracy: 0.6218 - val_loss: 2.0795 - val_accuracy: 0.4977 - lr: 4.0000e-05\n",
      "Epoch 26/50\n",
      "1249/1250 [============================>.] - ETA: 0s - loss: 1.3594 - accuracy: 0.6243\n",
      "Epoch 26: val_accuracy did not improve from 0.49770\n",
      "1250/1250 [==============================] - 25s 20ms/step - loss: 1.3595 - accuracy: 0.6243 - val_loss: 2.0712 - val_accuracy: 0.4975 - lr: 4.0000e-05\n",
      "Epoch 27/50\n",
      "1248/1250 [============================>.] - ETA: 0s - loss: 1.3597 - accuracy: 0.6233\n",
      "Epoch 27: val_accuracy did not improve from 0.49770\n",
      "1250/1250 [==============================] - 25s 20ms/step - loss: 1.3599 - accuracy: 0.6233 - val_loss: 2.0928 - val_accuracy: 0.4929 - lr: 4.0000e-05\n",
      "Epoch 28/50\n",
      "1250/1250 [==============================] - ETA: 0s - loss: 1.3542 - accuracy: 0.6251\n",
      "Epoch 28: val_accuracy did not improve from 0.49770\n",
      "1250/1250 [==============================] - 25s 20ms/step - loss: 1.3542 - accuracy: 0.6251 - val_loss: 2.0944 - val_accuracy: 0.4961 - lr: 1.0000e-05\n",
      "Epoch 28: early stopping\n"
     ]
    },
    {
     "name": "stderr",
     "output_type": "stream",
     "text": [
      "/usr/local/lib/python3.7/dist-packages/ipykernel_launcher.py:42: UserWarning: `Model.evaluate_generator` is deprecated and will be removed in a future version. Please use `Model.evaluate`, which supports generators.\n"
     ]
    },
    {
     "name": "stdout",
     "output_type": "stream",
     "text": [
      "Accuracy on test data : 0.498\n"
     ]
    }
   ],
   "source": [
    "train_hist_improved = improved_model_train(improved_model, train_images, train_labels, test_images, test_labels)"
   ]
  },
  {
   "cell_type": "code",
   "execution_count": null,
   "metadata": {
    "colab": {
     "base_uri": "https://localhost:8080/",
     "height": 296
    },
    "id": "PFpbn4jn3wHD",
    "outputId": "1a8975c3-7eb0-43b9-f8d2-5f6940afbc0b"
   },
   "outputs": [
    {
     "data": {
      "image/png": "[encoded data removed]",
      "text/plain": [
       "<Figure size 432x288 with 1 Axes>"
      ]
     },
     "metadata": {
      "needs_background": "light"
     },
     "output_type": "display_data"
    }
   ],
   "source": [
    "create_accuracy_plot(train_hist_improved)"
   ]
  },
  {
   "cell_type": "code",
   "execution_count": null,
   "metadata": {
    "colab": {
     "base_uri": "https://localhost:8080/"
    },
    "id": "BAVxoauoBXnc",
    "outputId": "4c0ec4da-fdeb-4e58-90ac-14308fed0b34"
   },
   "outputs": [
    {
     "name": "stdout",
     "output_type": "stream",
     "text": [
      "1230.1372594833374\n"
     ]
    }
   ],
   "source": [
    "end_time = time.time()\n",
    "total_time = end_time - start_time\n",
    "print(total_time)"
   ]
  },
  {
   "cell_type": "code",
   "execution_count": null,
   "metadata": {
    "id": "D7FjhVrz5hiP"
   },
   "outputs": [],
   "source": []
  }
 ],
 "metadata": {
  "accelerator": "GPU",
  "colab": {
   "collapsed_sections": [],
   "name": "32785410.ipynb",
   "provenance": []
  },
  "kernelspec": {
   "display_name": "Python 3 (ipykernel)",
   "language": "python",
   "name": "python3"
  },
  "language_info": {
   "codemirror_mode": {
    "name": "ipython",
    "version": 3
   },
   "file_extension": ".py",
   "mimetype": "text/x-python",
   "name": "python",
   "nbconvert_exporter": "python",
   "pygments_lexer": "ipython3",
   "version": "3.10.6"
  }
 },
 "nbformat": 4,
 "nbformat_minor": 1
}
